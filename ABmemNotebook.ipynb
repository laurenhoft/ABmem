{
 "cells": [
  {
   "cell_type": "markdown",
   "metadata": {},
   "source": [
    "Analysis of AB interaction with memory"
   ]
  },
  {
   "cell_type": "code",
   "execution_count": 89,
   "metadata": {},
   "outputs": [],
   "source": [
    "#set up the environment\n",
    "import numpy as np\n",
    "import pandas as pd\n",
    "from pandas import DataFrame, Series\n",
    "from os import walk,getcwd\n",
    "import matplotlib.pyplot as plt\n",
    "#custom helper functions for reading in data files and performing key analysis steps\n",
    "%run AB_mem_helper_funcs.py\n",
    "curwd = getcwd()\n",
    "mypath = \"data\"\n",
    "pd.options.mode.chained_assignment = None  # default='warn'"
   ]
  },
  {
   "cell_type": "code",
   "execution_count": null,
   "metadata": {},
   "outputs": [],
   "source": []
  },
  {
   "cell_type": "code",
   "execution_count": 90,
   "metadata": {},
   "outputs": [],
   "source": [
    "#find the data file paths\n",
    "dataFiles = list(walk(mypath))[0][2]\n",
    "dataFiles = Series([curwd + '\\\\' + mypath +'\\\\'+ file for file in dataFiles])\n"
   ]
  },
  {
   "cell_type": "code",
   "execution_count": 91,
   "metadata": {},
   "outputs": [
    {
     "data": {
      "text/plain": [
       "0     C:\\Users\\User\\OneDrive\\Documents\\GitHub\\ABmem\\...\n",
       "1     C:\\Users\\User\\OneDrive\\Documents\\GitHub\\ABmem\\...\n",
       "2     C:\\Users\\User\\OneDrive\\Documents\\GitHub\\ABmem\\...\n",
       "3     C:\\Users\\User\\OneDrive\\Documents\\GitHub\\ABmem\\...\n",
       "4     C:\\Users\\User\\OneDrive\\Documents\\GitHub\\ABmem\\...\n",
       "5     C:\\Users\\User\\OneDrive\\Documents\\GitHub\\ABmem\\...\n",
       "6     C:\\Users\\User\\OneDrive\\Documents\\GitHub\\ABmem\\...\n",
       "7     C:\\Users\\User\\OneDrive\\Documents\\GitHub\\ABmem\\...\n",
       "8     C:\\Users\\User\\OneDrive\\Documents\\GitHub\\ABmem\\...\n",
       "9     C:\\Users\\User\\OneDrive\\Documents\\GitHub\\ABmem\\...\n",
       "10    C:\\Users\\User\\OneDrive\\Documents\\GitHub\\ABmem\\...\n",
       "11    C:\\Users\\User\\OneDrive\\Documents\\GitHub\\ABmem\\...\n",
       "12    C:\\Users\\User\\OneDrive\\Documents\\GitHub\\ABmem\\...\n",
       "13    C:\\Users\\User\\OneDrive\\Documents\\GitHub\\ABmem\\...\n",
       "14    C:\\Users\\User\\OneDrive\\Documents\\GitHub\\ABmem\\...\n",
       "15    C:\\Users\\User\\OneDrive\\Documents\\GitHub\\ABmem\\...\n",
       "16    C:\\Users\\User\\OneDrive\\Documents\\GitHub\\ABmem\\...\n",
       "17    C:\\Users\\User\\OneDrive\\Documents\\GitHub\\ABmem\\...\n",
       "18    C:\\Users\\User\\OneDrive\\Documents\\GitHub\\ABmem\\...\n",
       "dtype: object"
      ]
     },
     "execution_count": 91,
     "metadata": {},
     "output_type": "execute_result"
    }
   ],
   "source": [
    "dataFiles"
   ]
  },
  {
   "cell_type": "code",
   "execution_count": 92,
   "metadata": {},
   "outputs": [
    {
     "name": "stderr",
     "output_type": "stream",
     "text": [
      "C:\\Users\\User\\OneDrive\\Documents\\GitHub\\ABmem\\AB_mem_helper_funcs.py:61: FutureWarning: The default dtype for empty Series will be 'object' instead of 'float64' in a future version. Specify a dtype explicitly to silence this warning.\n",
      "  out = pd.Series()\n",
      "C:\\Users\\User\\OneDrive\\Documents\\GitHub\\ABmem\\AB_mem_helper_funcs.py:61: FutureWarning: The default dtype for empty Series will be 'object' instead of 'float64' in a future version. Specify a dtype explicitly to silence this warning.\n",
      "  out = pd.Series()\n",
      "C:\\Users\\User\\OneDrive\\Documents\\GitHub\\ABmem\\AB_mem_helper_funcs.py:61: FutureWarning: The default dtype for empty Series will be 'object' instead of 'float64' in a future version. Specify a dtype explicitly to silence this warning.\n",
      "  out = pd.Series()\n",
      "C:\\Users\\User\\OneDrive\\Documents\\GitHub\\ABmem\\AB_mem_helper_funcs.py:61: FutureWarning: The default dtype for empty Series will be 'object' instead of 'float64' in a future version. Specify a dtype explicitly to silence this warning.\n",
      "  out = pd.Series()\n",
      "C:\\Users\\User\\OneDrive\\Documents\\GitHub\\ABmem\\AB_mem_helper_funcs.py:61: FutureWarning: The default dtype for empty Series will be 'object' instead of 'float64' in a future version. Specify a dtype explicitly to silence this warning.\n",
      "  out = pd.Series()\n",
      "C:\\Users\\User\\OneDrive\\Documents\\GitHub\\ABmem\\AB_mem_helper_funcs.py:61: FutureWarning: The default dtype for empty Series will be 'object' instead of 'float64' in a future version. Specify a dtype explicitly to silence this warning.\n",
      "  out = pd.Series()\n",
      "C:\\Users\\User\\OneDrive\\Documents\\GitHub\\ABmem\\AB_mem_helper_funcs.py:61: FutureWarning: The default dtype for empty Series will be 'object' instead of 'float64' in a future version. Specify a dtype explicitly to silence this warning.\n",
      "  out = pd.Series()\n",
      "C:\\Users\\User\\OneDrive\\Documents\\GitHub\\ABmem\\AB_mem_helper_funcs.py:61: FutureWarning: The default dtype for empty Series will be 'object' instead of 'float64' in a future version. Specify a dtype explicitly to silence this warning.\n",
      "  out = pd.Series()\n",
      "C:\\Users\\User\\OneDrive\\Documents\\GitHub\\ABmem\\AB_mem_helper_funcs.py:61: FutureWarning: The default dtype for empty Series will be 'object' instead of 'float64' in a future version. Specify a dtype explicitly to silence this warning.\n",
      "  out = pd.Series()\n",
      "C:\\Users\\User\\OneDrive\\Documents\\GitHub\\ABmem\\AB_mem_helper_funcs.py:61: FutureWarning: The default dtype for empty Series will be 'object' instead of 'float64' in a future version. Specify a dtype explicitly to silence this warning.\n",
      "  out = pd.Series()\n",
      "C:\\Users\\User\\OneDrive\\Documents\\GitHub\\ABmem\\AB_mem_helper_funcs.py:61: FutureWarning: The default dtype for empty Series will be 'object' instead of 'float64' in a future version. Specify a dtype explicitly to silence this warning.\n",
      "  out = pd.Series()\n",
      "C:\\Users\\User\\OneDrive\\Documents\\GitHub\\ABmem\\AB_mem_helper_funcs.py:61: FutureWarning: The default dtype for empty Series will be 'object' instead of 'float64' in a future version. Specify a dtype explicitly to silence this warning.\n",
      "  out = pd.Series()\n",
      "C:\\Users\\User\\OneDrive\\Documents\\GitHub\\ABmem\\AB_mem_helper_funcs.py:61: FutureWarning: The default dtype for empty Series will be 'object' instead of 'float64' in a future version. Specify a dtype explicitly to silence this warning.\n",
      "  out = pd.Series()\n",
      "C:\\Users\\User\\OneDrive\\Documents\\GitHub\\ABmem\\AB_mem_helper_funcs.py:61: FutureWarning: The default dtype for empty Series will be 'object' instead of 'float64' in a future version. Specify a dtype explicitly to silence this warning.\n",
      "  out = pd.Series()\n",
      "C:\\Users\\User\\OneDrive\\Documents\\GitHub\\ABmem\\AB_mem_helper_funcs.py:61: FutureWarning: The default dtype for empty Series will be 'object' instead of 'float64' in a future version. Specify a dtype explicitly to silence this warning.\n",
      "  out = pd.Series()\n",
      "C:\\Users\\User\\OneDrive\\Documents\\GitHub\\ABmem\\AB_mem_helper_funcs.py:61: FutureWarning: The default dtype for empty Series will be 'object' instead of 'float64' in a future version. Specify a dtype explicitly to silence this warning.\n",
      "  out = pd.Series()\n",
      "C:\\Users\\User\\OneDrive\\Documents\\GitHub\\ABmem\\AB_mem_helper_funcs.py:61: FutureWarning: The default dtype for empty Series will be 'object' instead of 'float64' in a future version. Specify a dtype explicitly to silence this warning.\n",
      "  out = pd.Series()\n",
      "C:\\Users\\User\\OneDrive\\Documents\\GitHub\\ABmem\\AB_mem_helper_funcs.py:61: FutureWarning: The default dtype for empty Series will be 'object' instead of 'float64' in a future version. Specify a dtype explicitly to silence this warning.\n",
      "  out = pd.Series()\n",
      "C:\\Users\\User\\OneDrive\\Documents\\GitHub\\ABmem\\AB_mem_helper_funcs.py:61: FutureWarning: The default dtype for empty Series will be 'object' instead of 'float64' in a future version. Specify a dtype explicitly to silence this warning.\n",
      "  out = pd.Series()\n"
     ]
    }
   ],
   "source": [
    "#find all the relevant summary stats for each data file\n",
    "allDat = dataFiles.map(readDataFile)"
   ]
  },
  {
   "cell_type": "code",
   "execution_count": 93,
   "metadata": {},
   "outputs": [
    {
     "data": {
      "text/html": [
       "<div>\n",
       "<style scoped>\n",
       "    .dataframe tbody tr th:only-of-type {\n",
       "        vertical-align: middle;\n",
       "    }\n",
       "\n",
       "    .dataframe tbody tr th {\n",
       "        vertical-align: top;\n",
       "    }\n",
       "\n",
       "    .dataframe thead th {\n",
       "        text-align: right;\n",
       "    }\n",
       "</style>\n",
       "<table border=\"1\" class=\"dataframe\">\n",
       "  <thead>\n",
       "    <tr style=\"text-align: right;\">\n",
       "      <th></th>\n",
       "      <th>2022-06-29_10h58.31.945</th>\n",
       "    </tr>\n",
       "  </thead>\n",
       "  <tbody>\n",
       "    <tr>\n",
       "      <th>Lag5_T1P_T2A_T1</th>\n",
       "      <td>0.750000</td>\n",
       "    </tr>\n",
       "    <tr>\n",
       "      <th>Lag5_T1P_T2A_T2</th>\n",
       "      <td>0.928571</td>\n",
       "    </tr>\n",
       "    <tr>\n",
       "      <th>Lag5_T1P_T2A_T2_T1</th>\n",
       "      <td>0.904762</td>\n",
       "    </tr>\n",
       "    <tr>\n",
       "      <th>Lag1_T1P_T2P_T1</th>\n",
       "      <td>0.919540</td>\n",
       "    </tr>\n",
       "    <tr>\n",
       "      <th>Lag1_T1P_T2P_T2</th>\n",
       "      <td>0.908046</td>\n",
       "    </tr>\n",
       "    <tr>\n",
       "      <th>Lag1_T1P_T2P_T2_T1</th>\n",
       "      <td>0.912500</td>\n",
       "    </tr>\n",
       "    <tr>\n",
       "      <th>Lag5_T1P_T2P_T1</th>\n",
       "      <td>0.930233</td>\n",
       "    </tr>\n",
       "    <tr>\n",
       "      <th>Lag5_T1P_T2P_T2</th>\n",
       "      <td>0.860465</td>\n",
       "    </tr>\n",
       "    <tr>\n",
       "      <th>Lag5_T1P_T2P_T2_T1</th>\n",
       "      <td>0.850000</td>\n",
       "    </tr>\n",
       "    <tr>\n",
       "      <th>Lag5_T1A_T2A_T1</th>\n",
       "      <td>1.000000</td>\n",
       "    </tr>\n",
       "    <tr>\n",
       "      <th>Lag5_T1A_T2A_T2</th>\n",
       "      <td>0.700000</td>\n",
       "    </tr>\n",
       "    <tr>\n",
       "      <th>Lag5_T1A_T2A_T2_T1</th>\n",
       "      <td>0.700000</td>\n",
       "    </tr>\n",
       "    <tr>\n",
       "      <th>Lag5_T1A_T2P_T1</th>\n",
       "      <td>0.965517</td>\n",
       "    </tr>\n",
       "    <tr>\n",
       "      <th>Lag5_T1A_T2P_T2</th>\n",
       "      <td>0.758621</td>\n",
       "    </tr>\n",
       "    <tr>\n",
       "      <th>Lag5_T1A_T2P_T2_T1</th>\n",
       "      <td>0.750000</td>\n",
       "    </tr>\n",
       "    <tr>\n",
       "      <th>Lag1_T1P_T2A_T1</th>\n",
       "      <td>0.892857</td>\n",
       "    </tr>\n",
       "    <tr>\n",
       "      <th>Lag1_T1P_T2A_T2</th>\n",
       "      <td>0.821429</td>\n",
       "    </tr>\n",
       "    <tr>\n",
       "      <th>Lag1_T1P_T2A_T2_T1</th>\n",
       "      <td>0.800000</td>\n",
       "    </tr>\n",
       "    <tr>\n",
       "      <th>Lag1_T1A_T2P_T1</th>\n",
       "      <td>0.964286</td>\n",
       "    </tr>\n",
       "    <tr>\n",
       "      <th>Lag1_T1A_T2P_T2</th>\n",
       "      <td>0.928571</td>\n",
       "    </tr>\n",
       "    <tr>\n",
       "      <th>Lag1_T1A_T2P_T2_T1</th>\n",
       "      <td>0.925926</td>\n",
       "    </tr>\n",
       "    <tr>\n",
       "      <th>Lag1_T1A_T2A_T1</th>\n",
       "      <td>1.000000</td>\n",
       "    </tr>\n",
       "    <tr>\n",
       "      <th>Lag1_T1A_T2A_T2</th>\n",
       "      <td>0.900000</td>\n",
       "    </tr>\n",
       "    <tr>\n",
       "      <th>Lag1_T1A_T2A_T2_T1</th>\n",
       "      <td>0.900000</td>\n",
       "    </tr>\n",
       "    <tr>\n",
       "      <th>targMem</th>\n",
       "      <td>0.724590</td>\n",
       "    </tr>\n",
       "    <tr>\n",
       "      <th>distMem</th>\n",
       "      <td>0.852321</td>\n",
       "    </tr>\n",
       "    <tr>\n",
       "      <th>T1Overall</th>\n",
       "      <td>0.382114</td>\n",
       "    </tr>\n",
       "    <tr>\n",
       "      <th>T2Overall</th>\n",
       "      <td>0.355932</td>\n",
       "    </tr>\n",
       "    <tr>\n",
       "      <th>PP5cor_mem</th>\n",
       "      <td>0.444444</td>\n",
       "    </tr>\n",
       "    <tr>\n",
       "      <th>novel_mem</th>\n",
       "      <td>0.956757</td>\n",
       "    </tr>\n",
       "    <tr>\n",
       "      <th>PP1cor_mem</th>\n",
       "      <td>0.338028</td>\n",
       "    </tr>\n",
       "    <tr>\n",
       "      <th>distracter_mem</th>\n",
       "      <td>0.480769</td>\n",
       "    </tr>\n",
       "    <tr>\n",
       "      <th>PP1blink_mem</th>\n",
       "      <td>0.428571</td>\n",
       "    </tr>\n",
       "    <tr>\n",
       "      <th>PP1T2_mem</th>\n",
       "      <td>0.200000</td>\n",
       "    </tr>\n",
       "    <tr>\n",
       "      <th>PP1miss_mem</th>\n",
       "      <td>0.000000</td>\n",
       "    </tr>\n",
       "  </tbody>\n",
       "</table>\n",
       "</div>"
      ],
      "text/plain": [
       "                    2022-06-29_10h58.31.945\n",
       "Lag5_T1P_T2A_T1                    0.750000\n",
       "Lag5_T1P_T2A_T2                    0.928571\n",
       "Lag5_T1P_T2A_T2_T1                 0.904762\n",
       "Lag1_T1P_T2P_T1                    0.919540\n",
       "Lag1_T1P_T2P_T2                    0.908046\n",
       "Lag1_T1P_T2P_T2_T1                 0.912500\n",
       "Lag5_T1P_T2P_T1                    0.930233\n",
       "Lag5_T1P_T2P_T2                    0.860465\n",
       "Lag5_T1P_T2P_T2_T1                 0.850000\n",
       "Lag5_T1A_T2A_T1                    1.000000\n",
       "Lag5_T1A_T2A_T2                    0.700000\n",
       "Lag5_T1A_T2A_T2_T1                 0.700000\n",
       "Lag5_T1A_T2P_T1                    0.965517\n",
       "Lag5_T1A_T2P_T2                    0.758621\n",
       "Lag5_T1A_T2P_T2_T1                 0.750000\n",
       "Lag1_T1P_T2A_T1                    0.892857\n",
       "Lag1_T1P_T2A_T2                    0.821429\n",
       "Lag1_T1P_T2A_T2_T1                 0.800000\n",
       "Lag1_T1A_T2P_T1                    0.964286\n",
       "Lag1_T1A_T2P_T2                    0.928571\n",
       "Lag1_T1A_T2P_T2_T1                 0.925926\n",
       "Lag1_T1A_T2A_T1                    1.000000\n",
       "Lag1_T1A_T2A_T2                    0.900000\n",
       "Lag1_T1A_T2A_T2_T1                 0.900000\n",
       "targMem                            0.724590\n",
       "distMem                            0.852321\n",
       "T1Overall                          0.382114\n",
       "T2Overall                          0.355932\n",
       "PP5cor_mem                         0.444444\n",
       "novel_mem                          0.956757\n",
       "PP1cor_mem                         0.338028\n",
       "distracter_mem                     0.480769\n",
       "PP1blink_mem                       0.428571\n",
       "PP1T2_mem                          0.200000\n",
       "PP1miss_mem                        0.000000"
      ]
     },
     "execution_count": 93,
     "metadata": {},
     "output_type": "execute_result"
    }
   ],
   "source": [
    "DataFrame(allDat[4])\n"
   ]
  },
  {
   "cell_type": "code",
   "execution_count": 94,
   "metadata": {},
   "outputs": [],
   "source": [
    "#aggregate the summaries into a dataframe\n",
    "df = DataFrame()\n",
    "for row in allDat: \n",
    "    df = df.add(DataFrame(row), fill_value = 0)\n",
    "df = df.T"
   ]
  },
  {
   "cell_type": "code",
   "execution_count": 95,
   "metadata": {},
   "outputs": [
    {
     "data": {
      "text/html": [
       "<div>\n",
       "<style scoped>\n",
       "    .dataframe tbody tr th:only-of-type {\n",
       "        vertical-align: middle;\n",
       "    }\n",
       "\n",
       "    .dataframe tbody tr th {\n",
       "        vertical-align: top;\n",
       "    }\n",
       "\n",
       "    .dataframe thead th {\n",
       "        text-align: right;\n",
       "    }\n",
       "</style>\n",
       "<table border=\"1\" class=\"dataframe\">\n",
       "  <thead>\n",
       "    <tr style=\"text-align: right;\">\n",
       "      <th></th>\n",
       "      <th>Lag1_T1A_T2A_T1</th>\n",
       "      <th>Lag1_T1A_T2A_T2</th>\n",
       "      <th>Lag1_T1A_T2A_T2_T1</th>\n",
       "      <th>Lag1_T1A_T2P_T1</th>\n",
       "      <th>Lag1_T1A_T2P_T2</th>\n",
       "      <th>Lag1_T1A_T2P_T2_T1</th>\n",
       "      <th>Lag1_T1P_T2A_T1</th>\n",
       "      <th>Lag1_T1P_T2A_T2</th>\n",
       "      <th>Lag1_T1P_T2A_T2_T1</th>\n",
       "      <th>Lag1_T1P_T2P_T1</th>\n",
       "      <th>...</th>\n",
       "      <th>PP1blink_mem</th>\n",
       "      <th>PP1cor_mem</th>\n",
       "      <th>PP1miss_mem</th>\n",
       "      <th>PP5cor_mem</th>\n",
       "      <th>T1Overall</th>\n",
       "      <th>T2Overall</th>\n",
       "      <th>distMem</th>\n",
       "      <th>distracter_mem</th>\n",
       "      <th>novel_mem</th>\n",
       "      <th>targMem</th>\n",
       "    </tr>\n",
       "  </thead>\n",
       "  <tbody>\n",
       "    <tr>\n",
       "      <th>2022-06-28_15h27.56.947</th>\n",
       "      <td>1.0</td>\n",
       "      <td>1.0</td>\n",
       "      <td>1.000000</td>\n",
       "      <td>1.000000</td>\n",
       "      <td>0.678571</td>\n",
       "      <td>0.678571</td>\n",
       "      <td>0.857143</td>\n",
       "      <td>0.892857</td>\n",
       "      <td>0.875000</td>\n",
       "      <td>0.816092</td>\n",
       "      <td>...</td>\n",
       "      <td>0.625000</td>\n",
       "      <td>0.622222</td>\n",
       "      <td>0.000000</td>\n",
       "      <td>0.593750</td>\n",
       "      <td>0.598131</td>\n",
       "      <td>0.520833</td>\n",
       "      <td>0.780591</td>\n",
       "      <td>0.403846</td>\n",
       "      <td>0.886486</td>\n",
       "      <td>0.754153</td>\n",
       "    </tr>\n",
       "    <tr>\n",
       "      <th>2022-06-28_16h39.33.399</th>\n",
       "      <td>1.0</td>\n",
       "      <td>1.0</td>\n",
       "      <td>1.000000</td>\n",
       "      <td>0.964286</td>\n",
       "      <td>0.678571</td>\n",
       "      <td>0.703704</td>\n",
       "      <td>0.857143</td>\n",
       "      <td>0.928571</td>\n",
       "      <td>0.916667</td>\n",
       "      <td>0.965517</td>\n",
       "      <td>...</td>\n",
       "      <td>0.688889</td>\n",
       "      <td>0.513514</td>\n",
       "      <td>NaN</td>\n",
       "      <td>0.648649</td>\n",
       "      <td>0.611111</td>\n",
       "      <td>0.542169</td>\n",
       "      <td>0.852321</td>\n",
       "      <td>0.634615</td>\n",
       "      <td>0.913514</td>\n",
       "      <td>0.794118</td>\n",
       "    </tr>\n",
       "    <tr>\n",
       "      <th>2022-06-29_09h00.40.945</th>\n",
       "      <td>0.8</td>\n",
       "      <td>0.6</td>\n",
       "      <td>0.500000</td>\n",
       "      <td>0.714286</td>\n",
       "      <td>0.892857</td>\n",
       "      <td>0.850000</td>\n",
       "      <td>0.750000</td>\n",
       "      <td>0.357143</td>\n",
       "      <td>0.285714</td>\n",
       "      <td>0.896552</td>\n",
       "      <td>...</td>\n",
       "      <td>0.800000</td>\n",
       "      <td>0.671429</td>\n",
       "      <td>0.500000</td>\n",
       "      <td>0.465116</td>\n",
       "      <td>0.611570</td>\n",
       "      <td>0.592000</td>\n",
       "      <td>0.827004</td>\n",
       "      <td>0.903846</td>\n",
       "      <td>0.805405</td>\n",
       "      <td>0.717949</td>\n",
       "    </tr>\n",
       "    <tr>\n",
       "      <th>2022-06-29_10h01.10.225</th>\n",
       "      <td>0.9</td>\n",
       "      <td>1.0</td>\n",
       "      <td>1.000000</td>\n",
       "      <td>1.000000</td>\n",
       "      <td>0.500000</td>\n",
       "      <td>0.500000</td>\n",
       "      <td>0.821429</td>\n",
       "      <td>0.928571</td>\n",
       "      <td>0.913043</td>\n",
       "      <td>0.908046</td>\n",
       "      <td>...</td>\n",
       "      <td>0.777778</td>\n",
       "      <td>0.720000</td>\n",
       "      <td>0.000000</td>\n",
       "      <td>0.714286</td>\n",
       "      <td>0.739496</td>\n",
       "      <td>0.701149</td>\n",
       "      <td>0.810127</td>\n",
       "      <td>0.461538</td>\n",
       "      <td>0.908108</td>\n",
       "      <td>0.835017</td>\n",
       "    </tr>\n",
       "    <tr>\n",
       "      <th>2022-06-29_10h58.31.945</th>\n",
       "      <td>1.0</td>\n",
       "      <td>0.9</td>\n",
       "      <td>0.900000</td>\n",
       "      <td>0.964286</td>\n",
       "      <td>0.928571</td>\n",
       "      <td>0.925926</td>\n",
       "      <td>0.892857</td>\n",
       "      <td>0.821429</td>\n",
       "      <td>0.800000</td>\n",
       "      <td>0.919540</td>\n",
       "      <td>...</td>\n",
       "      <td>0.428571</td>\n",
       "      <td>0.338028</td>\n",
       "      <td>0.000000</td>\n",
       "      <td>0.444444</td>\n",
       "      <td>0.382114</td>\n",
       "      <td>0.355932</td>\n",
       "      <td>0.852321</td>\n",
       "      <td>0.480769</td>\n",
       "      <td>0.956757</td>\n",
       "      <td>0.724590</td>\n",
       "    </tr>\n",
       "    <tr>\n",
       "      <th>2022-06-29_12h25.08.771</th>\n",
       "      <td>0.9</td>\n",
       "      <td>1.0</td>\n",
       "      <td>1.000000</td>\n",
       "      <td>0.892857</td>\n",
       "      <td>0.750000</td>\n",
       "      <td>0.760000</td>\n",
       "      <td>0.750000</td>\n",
       "      <td>0.892857</td>\n",
       "      <td>0.904762</td>\n",
       "      <td>0.839080</td>\n",
       "      <td>...</td>\n",
       "      <td>0.724138</td>\n",
       "      <td>0.761905</td>\n",
       "      <td>0.333333</td>\n",
       "      <td>0.871795</td>\n",
       "      <td>0.778761</td>\n",
       "      <td>0.747475</td>\n",
       "      <td>0.738397</td>\n",
       "      <td>0.788462</td>\n",
       "      <td>0.724324</td>\n",
       "      <td>0.737013</td>\n",
       "    </tr>\n",
       "    <tr>\n",
       "      <th>2022-06-29_13h55.44.897</th>\n",
       "      <td>0.9</td>\n",
       "      <td>0.4</td>\n",
       "      <td>0.444444</td>\n",
       "      <td>0.964286</td>\n",
       "      <td>0.857143</td>\n",
       "      <td>0.851852</td>\n",
       "      <td>0.785714</td>\n",
       "      <td>0.571429</td>\n",
       "      <td>0.636364</td>\n",
       "      <td>0.908046</td>\n",
       "      <td>...</td>\n",
       "      <td>0.640000</td>\n",
       "      <td>0.596154</td>\n",
       "      <td>0.000000</td>\n",
       "      <td>0.593750</td>\n",
       "      <td>0.617391</td>\n",
       "      <td>0.549020</td>\n",
       "      <td>0.763713</td>\n",
       "      <td>0.365385</td>\n",
       "      <td>0.875676</td>\n",
       "      <td>0.764120</td>\n",
       "    </tr>\n",
       "    <tr>\n",
       "      <th>2022-06-29_16h26.54.527</th>\n",
       "      <td>0.9</td>\n",
       "      <td>0.8</td>\n",
       "      <td>0.777778</td>\n",
       "      <td>0.928571</td>\n",
       "      <td>0.571429</td>\n",
       "      <td>0.576923</td>\n",
       "      <td>0.678571</td>\n",
       "      <td>0.857143</td>\n",
       "      <td>0.842105</td>\n",
       "      <td>0.850575</td>\n",
       "      <td>...</td>\n",
       "      <td>0.756098</td>\n",
       "      <td>0.562500</td>\n",
       "      <td>0.000000</td>\n",
       "      <td>0.545455</td>\n",
       "      <td>0.611111</td>\n",
       "      <td>0.534247</td>\n",
       "      <td>0.835443</td>\n",
       "      <td>0.596154</td>\n",
       "      <td>0.902703</td>\n",
       "      <td>0.797251</td>\n",
       "    </tr>\n",
       "    <tr>\n",
       "      <th>2022-06-30_09h08.37.319</th>\n",
       "      <td>0.0</td>\n",
       "      <td>0.1</td>\n",
       "      <td>NaN</td>\n",
       "      <td>0.035714</td>\n",
       "      <td>0.214286</td>\n",
       "      <td>0.000000</td>\n",
       "      <td>0.142857</td>\n",
       "      <td>0.035714</td>\n",
       "      <td>0.000000</td>\n",
       "      <td>0.068966</td>\n",
       "      <td>...</td>\n",
       "      <td>0.000000</td>\n",
       "      <td>0.000000</td>\n",
       "      <td>0.491228</td>\n",
       "      <td>0.000000</td>\n",
       "      <td>0.000000</td>\n",
       "      <td>0.529412</td>\n",
       "      <td>0.873418</td>\n",
       "      <td>0.576923</td>\n",
       "      <td>0.956757</td>\n",
       "      <td>0.797794</td>\n",
       "    </tr>\n",
       "    <tr>\n",
       "      <th>2022-06-30_10h36.41.165</th>\n",
       "      <td>1.0</td>\n",
       "      <td>1.0</td>\n",
       "      <td>1.000000</td>\n",
       "      <td>1.000000</td>\n",
       "      <td>0.821429</td>\n",
       "      <td>0.821429</td>\n",
       "      <td>0.892857</td>\n",
       "      <td>0.964286</td>\n",
       "      <td>0.960000</td>\n",
       "      <td>0.931034</td>\n",
       "      <td>...</td>\n",
       "      <td>0.840000</td>\n",
       "      <td>0.592593</td>\n",
       "      <td>NaN</td>\n",
       "      <td>0.692308</td>\n",
       "      <td>0.685484</td>\n",
       "      <td>0.603960</td>\n",
       "      <td>0.789030</td>\n",
       "      <td>0.576923</td>\n",
       "      <td>0.848649</td>\n",
       "      <td>0.772727</td>\n",
       "    </tr>\n",
       "    <tr>\n",
       "      <th>2022-06-30_11h30.37.978</th>\n",
       "      <td>1.0</td>\n",
       "      <td>1.0</td>\n",
       "      <td>1.000000</td>\n",
       "      <td>0.964286</td>\n",
       "      <td>0.750000</td>\n",
       "      <td>0.740741</td>\n",
       "      <td>0.857143</td>\n",
       "      <td>1.000000</td>\n",
       "      <td>1.000000</td>\n",
       "      <td>0.942529</td>\n",
       "      <td>...</td>\n",
       "      <td>0.843750</td>\n",
       "      <td>0.583333</td>\n",
       "      <td>0.000000</td>\n",
       "      <td>0.487805</td>\n",
       "      <td>0.617188</td>\n",
       "      <td>0.526316</td>\n",
       "      <td>0.856540</td>\n",
       "      <td>0.461538</td>\n",
       "      <td>0.967568</td>\n",
       "      <td>0.819355</td>\n",
       "    </tr>\n",
       "    <tr>\n",
       "      <th>2022-06-30_12h37.33.852</th>\n",
       "      <td>1.0</td>\n",
       "      <td>1.0</td>\n",
       "      <td>1.000000</td>\n",
       "      <td>0.964286</td>\n",
       "      <td>0.607143</td>\n",
       "      <td>0.629630</td>\n",
       "      <td>0.821429</td>\n",
       "      <td>0.964286</td>\n",
       "      <td>0.956522</td>\n",
       "      <td>0.919540</td>\n",
       "      <td>...</td>\n",
       "      <td>0.875000</td>\n",
       "      <td>0.763158</td>\n",
       "      <td>NaN</td>\n",
       "      <td>0.655172</td>\n",
       "      <td>0.773109</td>\n",
       "      <td>0.666667</td>\n",
       "      <td>0.810127</td>\n",
       "      <td>0.576923</td>\n",
       "      <td>0.875676</td>\n",
       "      <td>0.828859</td>\n",
       "    </tr>\n",
       "    <tr>\n",
       "      <th>2022-06-30_15h07.06.222</th>\n",
       "      <td>0.9</td>\n",
       "      <td>1.0</td>\n",
       "      <td>1.000000</td>\n",
       "      <td>0.857143</td>\n",
       "      <td>0.607143</td>\n",
       "      <td>0.625000</td>\n",
       "      <td>0.678571</td>\n",
       "      <td>0.821429</td>\n",
       "      <td>0.789474</td>\n",
       "      <td>0.793103</td>\n",
       "      <td>...</td>\n",
       "      <td>0.680851</td>\n",
       "      <td>0.650000</td>\n",
       "      <td>0.750000</td>\n",
       "      <td>0.666667</td>\n",
       "      <td>0.656863</td>\n",
       "      <td>0.596491</td>\n",
       "      <td>0.729958</td>\n",
       "      <td>0.653846</td>\n",
       "      <td>0.751351</td>\n",
       "      <td>0.724138</td>\n",
       "    </tr>\n",
       "    <tr>\n",
       "      <th>2022-06-30_16h08.59.712</th>\n",
       "      <td>1.0</td>\n",
       "      <td>0.8</td>\n",
       "      <td>0.800000</td>\n",
       "      <td>0.964286</td>\n",
       "      <td>0.642857</td>\n",
       "      <td>0.629630</td>\n",
       "      <td>0.785714</td>\n",
       "      <td>0.964286</td>\n",
       "      <td>1.000000</td>\n",
       "      <td>0.873563</td>\n",
       "      <td>...</td>\n",
       "      <td>0.600000</td>\n",
       "      <td>0.526316</td>\n",
       "      <td>0.500000</td>\n",
       "      <td>0.589744</td>\n",
       "      <td>0.576271</td>\n",
       "      <td>0.584615</td>\n",
       "      <td>0.662447</td>\n",
       "      <td>0.307692</td>\n",
       "      <td>0.762162</td>\n",
       "      <td>0.691558</td>\n",
       "    </tr>\n",
       "    <tr>\n",
       "      <th>2022-07-01_10h00.03.424</th>\n",
       "      <td>1.0</td>\n",
       "      <td>1.0</td>\n",
       "      <td>1.000000</td>\n",
       "      <td>0.964286</td>\n",
       "      <td>0.750000</td>\n",
       "      <td>0.777778</td>\n",
       "      <td>0.821429</td>\n",
       "      <td>0.964286</td>\n",
       "      <td>0.956522</td>\n",
       "      <td>0.885057</td>\n",
       "      <td>...</td>\n",
       "      <td>0.705882</td>\n",
       "      <td>0.625000</td>\n",
       "      <td>0.000000</td>\n",
       "      <td>0.666667</td>\n",
       "      <td>0.677966</td>\n",
       "      <td>0.606061</td>\n",
       "      <td>0.818565</td>\n",
       "      <td>0.596154</td>\n",
       "      <td>0.881081</td>\n",
       "      <td>0.795987</td>\n",
       "    </tr>\n",
       "    <tr>\n",
       "      <th>2022-07-01_12h27.38.741</th>\n",
       "      <td>1.0</td>\n",
       "      <td>0.8</td>\n",
       "      <td>0.800000</td>\n",
       "      <td>0.892857</td>\n",
       "      <td>0.357143</td>\n",
       "      <td>0.320000</td>\n",
       "      <td>0.714286</td>\n",
       "      <td>0.964286</td>\n",
       "      <td>1.000000</td>\n",
       "      <td>0.793103</td>\n",
       "      <td>...</td>\n",
       "      <td>0.533333</td>\n",
       "      <td>0.590909</td>\n",
       "      <td>0.333333</td>\n",
       "      <td>0.583333</td>\n",
       "      <td>0.592593</td>\n",
       "      <td>0.517857</td>\n",
       "      <td>0.793249</td>\n",
       "      <td>0.576923</td>\n",
       "      <td>0.854054</td>\n",
       "      <td>0.730375</td>\n",
       "    </tr>\n",
       "    <tr>\n",
       "      <th>2022-07-01_14h29.26.291</th>\n",
       "      <td>1.0</td>\n",
       "      <td>1.0</td>\n",
       "      <td>1.000000</td>\n",
       "      <td>1.000000</td>\n",
       "      <td>0.714286</td>\n",
       "      <td>0.714286</td>\n",
       "      <td>0.928571</td>\n",
       "      <td>1.000000</td>\n",
       "      <td>1.000000</td>\n",
       "      <td>0.908046</td>\n",
       "      <td>...</td>\n",
       "      <td>0.733333</td>\n",
       "      <td>0.625000</td>\n",
       "      <td>NaN</td>\n",
       "      <td>0.607143</td>\n",
       "      <td>0.644628</td>\n",
       "      <td>0.591549</td>\n",
       "      <td>0.856540</td>\n",
       "      <td>0.865385</td>\n",
       "      <td>0.854054</td>\n",
       "      <td>0.781145</td>\n",
       "    </tr>\n",
       "    <tr>\n",
       "      <th>2022-07-01_16h01.59.492</th>\n",
       "      <td>1.0</td>\n",
       "      <td>1.0</td>\n",
       "      <td>1.000000</td>\n",
       "      <td>0.892857</td>\n",
       "      <td>0.607143</td>\n",
       "      <td>0.640000</td>\n",
       "      <td>0.821429</td>\n",
       "      <td>0.928571</td>\n",
       "      <td>0.913043</td>\n",
       "      <td>0.931034</td>\n",
       "      <td>...</td>\n",
       "      <td>0.800000</td>\n",
       "      <td>0.588235</td>\n",
       "      <td>0.000000</td>\n",
       "      <td>0.608696</td>\n",
       "      <td>0.678261</td>\n",
       "      <td>0.514286</td>\n",
       "      <td>0.797468</td>\n",
       "      <td>0.750000</td>\n",
       "      <td>0.810811</td>\n",
       "      <td>0.756849</td>\n",
       "    </tr>\n",
       "    <tr>\n",
       "      <th>2022-07-01_17h04.12.064</th>\n",
       "      <td>1.0</td>\n",
       "      <td>0.6</td>\n",
       "      <td>0.600000</td>\n",
       "      <td>1.000000</td>\n",
       "      <td>0.642857</td>\n",
       "      <td>0.642857</td>\n",
       "      <td>0.821429</td>\n",
       "      <td>0.857143</td>\n",
       "      <td>0.869565</td>\n",
       "      <td>0.850575</td>\n",
       "      <td>...</td>\n",
       "      <td>0.244444</td>\n",
       "      <td>0.222222</td>\n",
       "      <td>0.200000</td>\n",
       "      <td>0.200000</td>\n",
       "      <td>0.227273</td>\n",
       "      <td>0.173913</td>\n",
       "      <td>0.801688</td>\n",
       "      <td>0.134615</td>\n",
       "      <td>0.989189</td>\n",
       "      <td>0.700680</td>\n",
       "    </tr>\n",
       "  </tbody>\n",
       "</table>\n",
       "<p>19 rows × 35 columns</p>\n",
       "</div>"
      ],
      "text/plain": [
       "                         Lag1_T1A_T2A_T1  Lag1_T1A_T2A_T2  Lag1_T1A_T2A_T2_T1  \\\n",
       "2022-06-28_15h27.56.947              1.0              1.0            1.000000   \n",
       "2022-06-28_16h39.33.399              1.0              1.0            1.000000   \n",
       "2022-06-29_09h00.40.945              0.8              0.6            0.500000   \n",
       "2022-06-29_10h01.10.225              0.9              1.0            1.000000   \n",
       "2022-06-29_10h58.31.945              1.0              0.9            0.900000   \n",
       "2022-06-29_12h25.08.771              0.9              1.0            1.000000   \n",
       "2022-06-29_13h55.44.897              0.9              0.4            0.444444   \n",
       "2022-06-29_16h26.54.527              0.9              0.8            0.777778   \n",
       "2022-06-30_09h08.37.319              0.0              0.1                 NaN   \n",
       "2022-06-30_10h36.41.165              1.0              1.0            1.000000   \n",
       "2022-06-30_11h30.37.978              1.0              1.0            1.000000   \n",
       "2022-06-30_12h37.33.852              1.0              1.0            1.000000   \n",
       "2022-06-30_15h07.06.222              0.9              1.0            1.000000   \n",
       "2022-06-30_16h08.59.712              1.0              0.8            0.800000   \n",
       "2022-07-01_10h00.03.424              1.0              1.0            1.000000   \n",
       "2022-07-01_12h27.38.741              1.0              0.8            0.800000   \n",
       "2022-07-01_14h29.26.291              1.0              1.0            1.000000   \n",
       "2022-07-01_16h01.59.492              1.0              1.0            1.000000   \n",
       "2022-07-01_17h04.12.064              1.0              0.6            0.600000   \n",
       "\n",
       "                         Lag1_T1A_T2P_T1  Lag1_T1A_T2P_T2  Lag1_T1A_T2P_T2_T1  \\\n",
       "2022-06-28_15h27.56.947         1.000000         0.678571            0.678571   \n",
       "2022-06-28_16h39.33.399         0.964286         0.678571            0.703704   \n",
       "2022-06-29_09h00.40.945         0.714286         0.892857            0.850000   \n",
       "2022-06-29_10h01.10.225         1.000000         0.500000            0.500000   \n",
       "2022-06-29_10h58.31.945         0.964286         0.928571            0.925926   \n",
       "2022-06-29_12h25.08.771         0.892857         0.750000            0.760000   \n",
       "2022-06-29_13h55.44.897         0.964286         0.857143            0.851852   \n",
       "2022-06-29_16h26.54.527         0.928571         0.571429            0.576923   \n",
       "2022-06-30_09h08.37.319         0.035714         0.214286            0.000000   \n",
       "2022-06-30_10h36.41.165         1.000000         0.821429            0.821429   \n",
       "2022-06-30_11h30.37.978         0.964286         0.750000            0.740741   \n",
       "2022-06-30_12h37.33.852         0.964286         0.607143            0.629630   \n",
       "2022-06-30_15h07.06.222         0.857143         0.607143            0.625000   \n",
       "2022-06-30_16h08.59.712         0.964286         0.642857            0.629630   \n",
       "2022-07-01_10h00.03.424         0.964286         0.750000            0.777778   \n",
       "2022-07-01_12h27.38.741         0.892857         0.357143            0.320000   \n",
       "2022-07-01_14h29.26.291         1.000000         0.714286            0.714286   \n",
       "2022-07-01_16h01.59.492         0.892857         0.607143            0.640000   \n",
       "2022-07-01_17h04.12.064         1.000000         0.642857            0.642857   \n",
       "\n",
       "                         Lag1_T1P_T2A_T1  Lag1_T1P_T2A_T2  Lag1_T1P_T2A_T2_T1  \\\n",
       "2022-06-28_15h27.56.947         0.857143         0.892857            0.875000   \n",
       "2022-06-28_16h39.33.399         0.857143         0.928571            0.916667   \n",
       "2022-06-29_09h00.40.945         0.750000         0.357143            0.285714   \n",
       "2022-06-29_10h01.10.225         0.821429         0.928571            0.913043   \n",
       "2022-06-29_10h58.31.945         0.892857         0.821429            0.800000   \n",
       "2022-06-29_12h25.08.771         0.750000         0.892857            0.904762   \n",
       "2022-06-29_13h55.44.897         0.785714         0.571429            0.636364   \n",
       "2022-06-29_16h26.54.527         0.678571         0.857143            0.842105   \n",
       "2022-06-30_09h08.37.319         0.142857         0.035714            0.000000   \n",
       "2022-06-30_10h36.41.165         0.892857         0.964286            0.960000   \n",
       "2022-06-30_11h30.37.978         0.857143         1.000000            1.000000   \n",
       "2022-06-30_12h37.33.852         0.821429         0.964286            0.956522   \n",
       "2022-06-30_15h07.06.222         0.678571         0.821429            0.789474   \n",
       "2022-06-30_16h08.59.712         0.785714         0.964286            1.000000   \n",
       "2022-07-01_10h00.03.424         0.821429         0.964286            0.956522   \n",
       "2022-07-01_12h27.38.741         0.714286         0.964286            1.000000   \n",
       "2022-07-01_14h29.26.291         0.928571         1.000000            1.000000   \n",
       "2022-07-01_16h01.59.492         0.821429         0.928571            0.913043   \n",
       "2022-07-01_17h04.12.064         0.821429         0.857143            0.869565   \n",
       "\n",
       "                         Lag1_T1P_T2P_T1  ...  PP1blink_mem  PP1cor_mem  \\\n",
       "2022-06-28_15h27.56.947         0.816092  ...      0.625000    0.622222   \n",
       "2022-06-28_16h39.33.399         0.965517  ...      0.688889    0.513514   \n",
       "2022-06-29_09h00.40.945         0.896552  ...      0.800000    0.671429   \n",
       "2022-06-29_10h01.10.225         0.908046  ...      0.777778    0.720000   \n",
       "2022-06-29_10h58.31.945         0.919540  ...      0.428571    0.338028   \n",
       "2022-06-29_12h25.08.771         0.839080  ...      0.724138    0.761905   \n",
       "2022-06-29_13h55.44.897         0.908046  ...      0.640000    0.596154   \n",
       "2022-06-29_16h26.54.527         0.850575  ...      0.756098    0.562500   \n",
       "2022-06-30_09h08.37.319         0.068966  ...      0.000000    0.000000   \n",
       "2022-06-30_10h36.41.165         0.931034  ...      0.840000    0.592593   \n",
       "2022-06-30_11h30.37.978         0.942529  ...      0.843750    0.583333   \n",
       "2022-06-30_12h37.33.852         0.919540  ...      0.875000    0.763158   \n",
       "2022-06-30_15h07.06.222         0.793103  ...      0.680851    0.650000   \n",
       "2022-06-30_16h08.59.712         0.873563  ...      0.600000    0.526316   \n",
       "2022-07-01_10h00.03.424         0.885057  ...      0.705882    0.625000   \n",
       "2022-07-01_12h27.38.741         0.793103  ...      0.533333    0.590909   \n",
       "2022-07-01_14h29.26.291         0.908046  ...      0.733333    0.625000   \n",
       "2022-07-01_16h01.59.492         0.931034  ...      0.800000    0.588235   \n",
       "2022-07-01_17h04.12.064         0.850575  ...      0.244444    0.222222   \n",
       "\n",
       "                         PP1miss_mem  PP5cor_mem  T1Overall  T2Overall  \\\n",
       "2022-06-28_15h27.56.947     0.000000    0.593750   0.598131   0.520833   \n",
       "2022-06-28_16h39.33.399          NaN    0.648649   0.611111   0.542169   \n",
       "2022-06-29_09h00.40.945     0.500000    0.465116   0.611570   0.592000   \n",
       "2022-06-29_10h01.10.225     0.000000    0.714286   0.739496   0.701149   \n",
       "2022-06-29_10h58.31.945     0.000000    0.444444   0.382114   0.355932   \n",
       "2022-06-29_12h25.08.771     0.333333    0.871795   0.778761   0.747475   \n",
       "2022-06-29_13h55.44.897     0.000000    0.593750   0.617391   0.549020   \n",
       "2022-06-29_16h26.54.527     0.000000    0.545455   0.611111   0.534247   \n",
       "2022-06-30_09h08.37.319     0.491228    0.000000   0.000000   0.529412   \n",
       "2022-06-30_10h36.41.165          NaN    0.692308   0.685484   0.603960   \n",
       "2022-06-30_11h30.37.978     0.000000    0.487805   0.617188   0.526316   \n",
       "2022-06-30_12h37.33.852          NaN    0.655172   0.773109   0.666667   \n",
       "2022-06-30_15h07.06.222     0.750000    0.666667   0.656863   0.596491   \n",
       "2022-06-30_16h08.59.712     0.500000    0.589744   0.576271   0.584615   \n",
       "2022-07-01_10h00.03.424     0.000000    0.666667   0.677966   0.606061   \n",
       "2022-07-01_12h27.38.741     0.333333    0.583333   0.592593   0.517857   \n",
       "2022-07-01_14h29.26.291          NaN    0.607143   0.644628   0.591549   \n",
       "2022-07-01_16h01.59.492     0.000000    0.608696   0.678261   0.514286   \n",
       "2022-07-01_17h04.12.064     0.200000    0.200000   0.227273   0.173913   \n",
       "\n",
       "                          distMem  distracter_mem  novel_mem   targMem  \n",
       "2022-06-28_15h27.56.947  0.780591        0.403846   0.886486  0.754153  \n",
       "2022-06-28_16h39.33.399  0.852321        0.634615   0.913514  0.794118  \n",
       "2022-06-29_09h00.40.945  0.827004        0.903846   0.805405  0.717949  \n",
       "2022-06-29_10h01.10.225  0.810127        0.461538   0.908108  0.835017  \n",
       "2022-06-29_10h58.31.945  0.852321        0.480769   0.956757  0.724590  \n",
       "2022-06-29_12h25.08.771  0.738397        0.788462   0.724324  0.737013  \n",
       "2022-06-29_13h55.44.897  0.763713        0.365385   0.875676  0.764120  \n",
       "2022-06-29_16h26.54.527  0.835443        0.596154   0.902703  0.797251  \n",
       "2022-06-30_09h08.37.319  0.873418        0.576923   0.956757  0.797794  \n",
       "2022-06-30_10h36.41.165  0.789030        0.576923   0.848649  0.772727  \n",
       "2022-06-30_11h30.37.978  0.856540        0.461538   0.967568  0.819355  \n",
       "2022-06-30_12h37.33.852  0.810127        0.576923   0.875676  0.828859  \n",
       "2022-06-30_15h07.06.222  0.729958        0.653846   0.751351  0.724138  \n",
       "2022-06-30_16h08.59.712  0.662447        0.307692   0.762162  0.691558  \n",
       "2022-07-01_10h00.03.424  0.818565        0.596154   0.881081  0.795987  \n",
       "2022-07-01_12h27.38.741  0.793249        0.576923   0.854054  0.730375  \n",
       "2022-07-01_14h29.26.291  0.856540        0.865385   0.854054  0.781145  \n",
       "2022-07-01_16h01.59.492  0.797468        0.750000   0.810811  0.756849  \n",
       "2022-07-01_17h04.12.064  0.801688        0.134615   0.989189  0.700680  \n",
       "\n",
       "[19 rows x 35 columns]"
      ]
     },
     "execution_count": 95,
     "metadata": {},
     "output_type": "execute_result"
    }
   ],
   "source": [
    "df"
   ]
  },
  {
   "cell_type": "code",
   "execution_count": 122,
   "metadata": {},
   "outputs": [],
   "source": [
    "df['blinkMag'] = df['Lag5_T1P_T2P_T2_T1'] - df['Lag1_T1P_T2P_T2_T1']\n",
    "df.to_csv(r'test.csv')"
   ]
  },
  {
   "cell_type": "markdown",
   "metadata": {},
   "source": [
    "Data cleaning\n",
    "\n",
    "dfGP:"
   ]
  },
  {
   "cell_type": "code",
   "execution_count": 97,
   "metadata": {},
   "outputs": [
    {
     "data": {
      "text/plain": [
       "(array([2., 1., 0., 3., 3., 7., 1., 0., 1., 1.]),\n",
       " array([-0.0625    ,  0.00486111,  0.07222222,  0.13958333,  0.20694444,\n",
       "         0.27430556,  0.34166667,  0.40902778,  0.47638889,  0.54375   ,\n",
       "         0.61111111]),\n",
       " <BarContainer object of 10 artists>)"
      ]
     },
     "execution_count": 97,
     "metadata": {},
     "output_type": "execute_result"
    },
    {
     "data": {
      "image/png": "[encoded data removed]",
      "text/plain": [
       "<Figure size 432x288 with 1 Axes>"
      ]
     },
     "metadata": {
      "needs_background": "light"
     },
     "output_type": "display_data"
    }
   ],
   "source": [
    "#how big is the attentional blink we observe? \n",
    "plt.hist(df['blinkMag'])"
   ]
  },
  {
   "cell_type": "code",
   "execution_count": 98,
   "metadata": {},
   "outputs": [
    {
     "data": {
      "image/png": "[encoded data removed]",
      "text/plain": [
       "<Figure size 432x288 with 1 Axes>"
      ]
     },
     "metadata": {
      "needs_background": "light"
     },
     "output_type": "display_data"
    }
   ],
   "source": [
    "#does a bigger attentional blink (worse performance) lead to better memory on a subject level? \n",
    "plt.scatter(df['blinkMag'], df['targMem'])\n",
    "plt.xlabel('AB Magnitude')\n",
    "plt.ylabel('Target Memory')\n",
    "plt.title('Scatterplot of Attentional Blink Magnitude vs Memory')\n",
    "plt.show()"
   ]
  },
  {
   "cell_type": "code",
   "execution_count": 99,
   "metadata": {},
   "outputs": [
    {
     "data": {
      "text/plain": [
       "(array([2., 2., 2., 2., 3., 3., 0., 2., 1., 2.]),\n",
       " array([-0.05757576, -0.02577652,  0.00602273,  0.03782197,  0.06962121,\n",
       "         0.10142045,  0.1332197 ,  0.16501894,  0.19681818,  0.22861742,\n",
       "         0.26041667]),\n",
       " <BarContainer object of 10 artists>)"
      ]
     },
     "execution_count": 99,
     "metadata": {},
     "output_type": "execute_result"
    },
    {
     "data": {
      "image/png": "[encoded data removed]",
      "text/plain": [
       "<Figure size 432x288 with 1 Axes>"
      ]
     },
     "metadata": {
      "needs_background": "light"
     },
     "output_type": "display_data"
    }
   ],
   "source": [
    "#does spending more time (and causing an attentional blink) on T1 lead to better memory on an item level? \n",
    "plt.hist(df['PP1blink_mem'] - df['PP1cor_mem'])"
   ]
  },
  {
   "cell_type": "code",
   "execution_count": null,
   "metadata": {},
   "outputs": [],
   "source": []
  },
  {
   "cell_type": "code",
   "execution_count": 100,
   "metadata": {},
   "outputs": [
    {
     "data": {
      "text/plain": [
       "(array([1., 0., 1., 0., 0., 3., 7., 5., 1., 1.]),\n",
       " array([0.        , 0.08717949, 0.17435897, 0.26153846, 0.34871795,\n",
       "        0.43589744, 0.52307692, 0.61025641, 0.6974359 , 0.78461538,\n",
       "        0.87179487]),\n",
       " <BarContainer object of 10 artists>)"
      ]
     },
     "execution_count": 100,
     "metadata": {},
     "output_type": "execute_result"
    },
    {
     "data": {
      "image/png": "[encoded data removed]",
      "text/plain": [
       "<Figure size 432x288 with 1 Axes>"
      ]
     },
     "metadata": {
      "needs_background": "light"
     },
     "output_type": "display_data"
    }
   ],
   "source": [
    "import matplotlib.pyplot as plt\n",
    "import numpy as np\n",
    "fig = plt.figure()\n",
    "#data\n",
    "\n",
    "plt.hist(df['PP1cor_mem'], alpha=0.5)\n",
    "\n",
    "\n",
    "\n",
    "plt.hist(df['PP5cor_mem'], alpha=0.5)\n"
   ]
  },
  {
   "cell_type": "code",
   "execution_count": 101,
   "metadata": {},
   "outputs": [
    {
     "data": {
      "image/png": "[encoded data removed]",
      "text/plain": [
       "<Figure size 432x288 with 1 Axes>"
      ]
     },
     "metadata": {
      "needs_background": "light"
     },
     "output_type": "display_data"
    }
   ],
   "source": [
    "ColumnMeans = df.apply(np.mean)\n",
    "import matplotlib.pyplot as plt\n",
    "fig = plt.figure()\n",
    "ax = fig.add_axes([0,0,1,1])\n",
    "section = ['Target', 'Distractor', 'Novel']\n",
    "Memory = ['targMem', 'distracter_mem', 'novel_mem']\n",
    "ax.bar(section,ColumnMeans[Memory])\n",
    "plt.show()"
   ]
  },
  {
   "cell_type": "code",
   "execution_count": 102,
   "metadata": {},
   "outputs": [],
   "source": [
    "ColumnMeans = df.apply(np.mean)"
   ]
  },
  {
   "cell_type": "code",
   "execution_count": 103,
   "metadata": {},
   "outputs": [
    {
     "data": {
      "text/plain": [
       "targMem           0.764404\n",
       "distracter_mem    0.563765\n",
       "novel_mem         0.869701\n",
       "dtype: float64"
      ]
     },
     "execution_count": 103,
     "metadata": {},
     "output_type": "execute_result"
    }
   ],
   "source": [
    "ColumnMeans[Memory]"
   ]
  },
  {
   "cell_type": "code",
   "execution_count": 104,
   "metadata": {},
   "outputs": [
    {
     "data": {
      "text/plain": [
       "(array([0., 0., 0., 0., 0., 1., 0., 0., 0., 0.]),\n",
       " array([0.05972517, 0.15972517, 0.25972517, 0.35972517, 0.45972517,\n",
       "        0.55972517, 0.65972517, 0.75972517, 0.85972517, 0.95972517,\n",
       "        1.05972517]),\n",
       " <BarContainer object of 10 artists>)"
      ]
     },
     "execution_count": 104,
     "metadata": {},
     "output_type": "execute_result"
    },
    {
     "data": {
      "image/png": "[encoded data removed]",
      "text/plain": [
       "<Figure size 432x288 with 1 Axes>"
      ]
     },
     "metadata": {
      "needs_background": "light"
     },
     "output_type": "display_data"
    }
   ],
   "source": [
    "ColumnMeans = df.apply(np.mean)\n",
    "import matplotlib.pyplot as plt\n",
    "import numpy as np\n",
    "fig = plt.figure()\n",
    "#data\n",
    "\n",
    "plt.hist(ColumnMeans['PP1cor_mem'], alpha=0.5)\n",
    "\n",
    "\n",
    "\n",
    "plt.hist(ColumnMeans['PP5cor_mem'], alpha=0.5)\n",
    "\n",
    "\n"
   ]
  },
  {
   "cell_type": "code",
   "execution_count": 105,
   "metadata": {},
   "outputs": [
    {
     "data": {
      "text/plain": [
       "(array([0., 0., 0., 0., 0., 1., 0., 0., 0., 0.]),\n",
       " array([0.25867928, 0.35867928, 0.45867928, 0.55867928, 0.65867928,\n",
       "        0.75867928, 0.85867928, 0.95867928, 1.05867928, 1.15867928,\n",
       "        1.25867928]),\n",
       " <BarContainer object of 10 artists>)"
      ]
     },
     "execution_count": 105,
     "metadata": {},
     "output_type": "execute_result"
    },
    {
     "data": {
      "image/png": "[encoded data removed]",
      "text/plain": [
       "<Figure size 432x288 with 1 Axes>"
      ]
     },
     "metadata": {
      "needs_background": "light"
     },
     "output_type": "display_data"
    }
   ],
   "source": [
    "ColumnMeans = df.apply(np.mean)\n",
    "import matplotlib.pyplot as plt\n",
    "import numpy as np\n",
    "fig = plt.figure()\n",
    "#data\n",
    "\n",
    "plt.hist(ColumnMeans['Lag1_T1P_T2P_T2_T1'], alpha=0.5)\n",
    "\n",
    "\n",
    "\n",
    "plt.hist(ColumnMeans['Lag5_T1P_T2P_T2_T1'], alpha=0.5)\n",
    "\n",
    "\n"
   ]
  },
  {
   "cell_type": "code",
   "execution_count": 119,
   "metadata": {},
   "outputs": [
    {
     "data": {
      "text/plain": [
       "(array([1., 0., 1., 0., 1., 0., 2., 4., 5., 5.]),\n",
       " array([0.    , 0.0875, 0.175 , 0.2625, 0.35  , 0.4375, 0.525 , 0.6125,\n",
       "        0.7   , 0.7875, 0.875 ]),\n",
       " <BarContainer object of 10 artists>)"
      ]
     },
     "execution_count": 119,
     "metadata": {},
     "output_type": "execute_result"
    },
    {
     "data": {
      "image/png": "[encoded data removed]",
      "text/plain": [
       "<Figure size 432x288 with 3 Axes>"
      ]
     },
     "metadata": {
      "needs_background": "light"
     },
     "output_type": "display_data"
    }
   ],
   "source": [
    "import matplotlib.pyplot as plt\n",
    "import numpy as np\n",
    "fig = plt.figure()\n",
    "ax1 = fig.add_subplot(3,1,1)\n",
    "plt.hist(df['PP1cor_mem'], alpha=0.5)\n",
    "ax2 = fig.add_subplot(3,1,2)\n",
    "plt.hist(df['PP5cor_mem'], alpha=0.5)\n",
    "ax3 = fig.add_subplot(3,1,3)\n",
    "plt.hist(df['PP1blink_mem'], alpha=0.5)\n"
   ]
  },
  {
   "cell_type": "code",
   "execution_count": 121,
   "metadata": {},
   "outputs": [
    {
     "data": {
      "text/html": [
       "<div>\n",
       "<style scoped>\n",
       "    .dataframe tbody tr th:only-of-type {\n",
       "        vertical-align: middle;\n",
       "    }\n",
       "\n",
       "    .dataframe tbody tr th {\n",
       "        vertical-align: top;\n",
       "    }\n",
       "\n",
       "    .dataframe thead th {\n",
       "        text-align: right;\n",
       "    }\n",
       "</style>\n",
       "<table border=\"1\" class=\"dataframe\">\n",
       "  <thead>\n",
       "    <tr style=\"text-align: right;\">\n",
       "      <th></th>\n",
       "      <th>Lag1_T1A_T2A_T1</th>\n",
       "      <th>Lag1_T1A_T2A_T2</th>\n",
       "      <th>Lag1_T1A_T2A_T2_T1</th>\n",
       "      <th>Lag1_T1A_T2P_T1</th>\n",
       "      <th>Lag1_T1A_T2P_T2</th>\n",
       "      <th>Lag1_T1A_T2P_T2_T1</th>\n",
       "      <th>Lag1_T1P_T2A_T1</th>\n",
       "      <th>Lag1_T1P_T2A_T2</th>\n",
       "      <th>Lag1_T1P_T2A_T2_T1</th>\n",
       "      <th>Lag1_T1P_T2P_T1</th>\n",
       "      <th>...</th>\n",
       "      <th>PP1cor_mem</th>\n",
       "      <th>PP1miss_mem</th>\n",
       "      <th>PP5cor_mem</th>\n",
       "      <th>T1Overall</th>\n",
       "      <th>T2Overall</th>\n",
       "      <th>distMem</th>\n",
       "      <th>distracter_mem</th>\n",
       "      <th>novel_mem</th>\n",
       "      <th>targMem</th>\n",
       "      <th>blinkMag</th>\n",
       "    </tr>\n",
       "  </thead>\n",
       "  <tbody>\n",
       "    <tr>\n",
       "      <th>2022-06-29_10h58.31.945</th>\n",
       "      <td>1.0</td>\n",
       "      <td>0.9</td>\n",
       "      <td>0.9</td>\n",
       "      <td>0.964286</td>\n",
       "      <td>0.928571</td>\n",
       "      <td>0.925926</td>\n",
       "      <td>0.892857</td>\n",
       "      <td>0.821429</td>\n",
       "      <td>0.800000</td>\n",
       "      <td>0.919540</td>\n",
       "      <td>...</td>\n",
       "      <td>0.338028</td>\n",
       "      <td>0.000000</td>\n",
       "      <td>0.444444</td>\n",
       "      <td>0.382114</td>\n",
       "      <td>0.355932</td>\n",
       "      <td>0.852321</td>\n",
       "      <td>0.480769</td>\n",
       "      <td>0.956757</td>\n",
       "      <td>0.724590</td>\n",
       "      <td>-0.062500</td>\n",
       "    </tr>\n",
       "    <tr>\n",
       "      <th>2022-06-30_09h08.37.319</th>\n",
       "      <td>0.0</td>\n",
       "      <td>0.1</td>\n",
       "      <td>NaN</td>\n",
       "      <td>0.035714</td>\n",
       "      <td>0.214286</td>\n",
       "      <td>0.000000</td>\n",
       "      <td>0.142857</td>\n",
       "      <td>0.035714</td>\n",
       "      <td>0.000000</td>\n",
       "      <td>0.068966</td>\n",
       "      <td>...</td>\n",
       "      <td>0.000000</td>\n",
       "      <td>0.491228</td>\n",
       "      <td>0.000000</td>\n",
       "      <td>0.000000</td>\n",
       "      <td>0.529412</td>\n",
       "      <td>0.873418</td>\n",
       "      <td>0.576923</td>\n",
       "      <td>0.956757</td>\n",
       "      <td>0.797794</td>\n",
       "      <td>0.166667</td>\n",
       "    </tr>\n",
       "    <tr>\n",
       "      <th>2022-07-01_17h04.12.064</th>\n",
       "      <td>1.0</td>\n",
       "      <td>0.6</td>\n",
       "      <td>0.6</td>\n",
       "      <td>1.000000</td>\n",
       "      <td>0.642857</td>\n",
       "      <td>0.642857</td>\n",
       "      <td>0.821429</td>\n",
       "      <td>0.857143</td>\n",
       "      <td>0.869565</td>\n",
       "      <td>0.850575</td>\n",
       "      <td>...</td>\n",
       "      <td>0.222222</td>\n",
       "      <td>0.200000</td>\n",
       "      <td>0.200000</td>\n",
       "      <td>0.227273</td>\n",
       "      <td>0.173913</td>\n",
       "      <td>0.801688</td>\n",
       "      <td>0.134615</td>\n",
       "      <td>0.989189</td>\n",
       "      <td>0.700680</td>\n",
       "      <td>0.277992</td>\n",
       "    </tr>\n",
       "  </tbody>\n",
       "</table>\n",
       "<p>3 rows × 36 columns</p>\n",
       "</div>"
      ],
      "text/plain": [
       "                         Lag1_T1A_T2A_T1  Lag1_T1A_T2A_T2  Lag1_T1A_T2A_T2_T1  \\\n",
       "2022-06-29_10h58.31.945              1.0              0.9                 0.9   \n",
       "2022-06-30_09h08.37.319              0.0              0.1                 NaN   \n",
       "2022-07-01_17h04.12.064              1.0              0.6                 0.6   \n",
       "\n",
       "                         Lag1_T1A_T2P_T1  Lag1_T1A_T2P_T2  Lag1_T1A_T2P_T2_T1  \\\n",
       "2022-06-29_10h58.31.945         0.964286         0.928571            0.925926   \n",
       "2022-06-30_09h08.37.319         0.035714         0.214286            0.000000   \n",
       "2022-07-01_17h04.12.064         1.000000         0.642857            0.642857   \n",
       "\n",
       "                         Lag1_T1P_T2A_T1  Lag1_T1P_T2A_T2  Lag1_T1P_T2A_T2_T1  \\\n",
       "2022-06-29_10h58.31.945         0.892857         0.821429            0.800000   \n",
       "2022-06-30_09h08.37.319         0.142857         0.035714            0.000000   \n",
       "2022-07-01_17h04.12.064         0.821429         0.857143            0.869565   \n",
       "\n",
       "                         Lag1_T1P_T2P_T1  ...  PP1cor_mem  PP1miss_mem  \\\n",
       "2022-06-29_10h58.31.945         0.919540  ...    0.338028     0.000000   \n",
       "2022-06-30_09h08.37.319         0.068966  ...    0.000000     0.491228   \n",
       "2022-07-01_17h04.12.064         0.850575  ...    0.222222     0.200000   \n",
       "\n",
       "                         PP5cor_mem  T1Overall  T2Overall   distMem  \\\n",
       "2022-06-29_10h58.31.945    0.444444   0.382114   0.355932  0.852321   \n",
       "2022-06-30_09h08.37.319    0.000000   0.000000   0.529412  0.873418   \n",
       "2022-07-01_17h04.12.064    0.200000   0.227273   0.173913  0.801688   \n",
       "\n",
       "                         distracter_mem  novel_mem   targMem  blinkMag  \n",
       "2022-06-29_10h58.31.945        0.480769   0.956757  0.724590 -0.062500  \n",
       "2022-06-30_09h08.37.319        0.576923   0.956757  0.797794  0.166667  \n",
       "2022-07-01_17h04.12.064        0.134615   0.989189  0.700680  0.277992  \n",
       "\n",
       "[3 rows x 36 columns]"
      ]
     },
     "execution_count": 121,
     "metadata": {},
     "output_type": "execute_result"
    }
   ],
   "source": [
    "df.loc[df['PP1blink_mem']<0.5,:]"
   ]
  },
  {
   "cell_type": "code",
   "execution_count": 107,
   "metadata": {},
   "outputs": [
    {
     "data": {
      "text/plain": [
       "(array([1., 0., 1., 0., 0., 3., 7., 5., 1., 1.]),\n",
       " array([0.        , 0.08717949, 0.17435897, 0.26153846, 0.34871795,\n",
       "        0.43589744, 0.52307692, 0.61025641, 0.6974359 , 0.78461538,\n",
       "        0.87179487]),\n",
       " <BarContainer object of 10 artists>)"
      ]
     },
     "execution_count": 107,
     "metadata": {},
     "output_type": "execute_result"
    },
    {
     "data": {
      "image/png": "[encoded data removed]",
      "text/plain": [
       "<Figure size 432x288 with 2 Axes>"
      ]
     },
     "metadata": {
      "needs_background": "light"
     },
     "output_type": "display_data"
    }
   ],
   "source": [
    "import matplotlib.pyplot as plt\n",
    "import numpy as np\n",
    "fig = plt.figure()\n",
    "ax1 = fig.add_subplot(1,2,1)\n",
    "plt.hist(df['PP1cor_mem'], alpha=0.5)\n",
    "ax2 = fig.add_subplot(1,2,2)\n",
    "plt.hist(df['PP5cor_mem'], alpha=0.5)\n"
   ]
  },
  {
   "cell_type": "code",
   "execution_count": 114,
   "metadata": {},
   "outputs": [
    {
     "data": {
      "image/png": "[encoded data removed]",
      "text/plain": [
       "<Figure size 432x288 with 1 Axes>"
      ]
     },
     "metadata": {
      "needs_background": "light"
     },
     "output_type": "display_data"
    }
   ],
   "source": [
    "ColumnMeans = df.apply(np.mean)\n",
    "ColumnSD = df.apply(np.std)\n",
    "import matplotlib.pyplot as plt\n",
    "fig = plt.figure()\n",
    "ax = fig.add_axes([0,0,1,1])\n",
    "section = ['PP1', 'PP5', 'PP1blink', 'T1Overall', 'T2Overall']\n",
    "CorMem = ['PP1cor_mem', 'PP5cor_mem', 'PP1blink_mem', 'T1Overall', 'T2Overall']\n",
    "ax.bar(section,ColumnMeans[CorMem])\n",
    "plt.ylim([0.4,0.7])\n",
    "plt.show()"
   ]
  },
  {
   "cell_type": "code",
   "execution_count": 115,
   "metadata": {},
   "outputs": [
    {
     "data": {
      "text/plain": [
       "Lag1_T1A_T2A_T1       0.222178\n",
       "Lag1_T1A_T2A_T2       0.245627\n",
       "Lag1_T1A_T2A_T2_T1    0.181742\n",
       "Lag1_T1A_T2P_T1       0.213029\n",
       "Lag1_T1A_T2P_T2       0.170442\n",
       "Lag1_T1A_T2P_T2_T1    0.204107\n",
       "Lag1_T1P_T2A_T1       0.163134\n",
       "Lag1_T1P_T2A_T2       0.241466\n",
       "Lag1_T1P_T2A_T2_T1    0.253307\n",
       "Lag1_T1P_T2P_T1       0.188532\n",
       "Lag1_T1P_T2P_T2       0.185347\n",
       "Lag1_T1P_T2P_T2_T1    0.204560\n",
       "Lag5_T1A_T2A_T1       0.233959\n",
       "Lag5_T1A_T2A_T2       0.303625\n",
       "Lag5_T1A_T2A_T2_T1    0.251385\n",
       "Lag5_T1A_T2P_T1       0.212876\n",
       "Lag5_T1A_T2P_T2       0.138551\n",
       "Lag5_T1A_T2P_T2_T1    0.190432\n",
       "Lag5_T1P_T2A_T1       0.157334\n",
       "Lag5_T1P_T2A_T2       0.233477\n",
       "Lag5_T1P_T2A_T2_T1    0.245892\n",
       "Lag5_T1P_T2P_T1       0.182805\n",
       "Lag5_T1P_T2P_T2       0.178434\n",
       "Lag5_T1P_T2P_T2_T1    0.149431\n",
       "PP1T2_mem             0.239341\n",
       "PP1blink_mem          0.213686\n",
       "PP1cor_mem            0.181370\n",
       "PP1miss_mem           0.247937\n",
       "PP5cor_mem            0.186022\n",
       "T1Overall             0.184777\n",
       "T2Overall             0.119630\n",
       "distMem               0.050865\n",
       "distracter_mem        0.184987\n",
       "novel_mem             0.072264\n",
       "targMem               0.041919\n",
       "blinkMag              0.157261\n",
       "dtype: float64"
      ]
     },
     "execution_count": 115,
     "metadata": {},
     "output_type": "execute_result"
    }
   ],
   "source": [
    "ColumnSD"
   ]
  },
  {
   "cell_type": "code",
   "execution_count": 116,
   "metadata": {},
   "outputs": [
    {
     "data": {
      "text/plain": [
       "0.044721359549995794"
      ]
     },
     "execution_count": 116,
     "metadata": {},
     "output_type": "execute_result"
    }
   ],
   "source": [
    ".2/np.sqrt(20)"
   ]
  },
  {
   "cell_type": "code",
   "execution_count": 117,
   "metadata": {},
   "outputs": [
    {
     "data": {
      "image/png": "[encoded data removed]",
      "text/plain": [
       "<Figure size 432x288 with 1 Axes>"
      ]
     },
     "metadata": {
      "needs_background": "light"
     },
     "output_type": "display_data"
    }
   ],
   "source": [
    "ColumnMeans = df.apply(np.mean)\n",
    "import matplotlib.pyplot as plt\n",
    "fig = plt.figure()\n",
    "ax = fig.add_axes([0,0,1,1])\n",
    "section = ['Lag1', 'Lag5']\n",
    "CorMem = ['Lag1_T1P_T2P_T2_T1', 'Lag5_T1P_T2P_T2_T1']\n",
    "ax.bar(section,ColumnMeans[CorMem])\n",
    "plt.xlabel('Lag')\n",
    "plt.ylabel('% T2 Correct')\n",
    "plt.title('Scatterplot of the percentage of T2 correctly identified at Lag1 and Lag5')\n",
    "plt.show()\n"
   ]
  },
  {
   "cell_type": "code",
   "execution_count": 120,
   "metadata": {},
   "outputs": [
    {
     "data": {
      "image/png": "[encoded data removed]",
      "text/plain": [
       "<Figure size 432x288 with 1 Axes>"
      ]
     },
     "metadata": {
      "needs_background": "light"
     },
     "output_type": "display_data"
    }
   ],
   "source": [
    "ColumnMeans = df.apply(np.mean)\n",
    "import matplotlib.pyplot as plt\n",
    "fig = plt.figure()\n",
    "ax = fig.add_axes([0,0,1,1])\n",
    "section = ['Lag1', 'Lag5']\n",
    "CorMem = ['Lag1_T1P_T2P_T1', 'Lag5_T1P_T2P_T1']\n",
    "ax.bar(section,ColumnMeans[CorMem])\n",
    "\n",
    "plt.show()\n"
   ]
  },
  {
   "cell_type": "code",
   "execution_count": 137,
   "metadata": {},
   "outputs": [
    {
     "ename": "KeyError",
     "evalue": "'key of type tuple not found and not a MultiIndex'",
     "output_type": "error",
     "traceback": [
      "\u001b[1;31m---------------------------------------------------------------------------\u001b[0m",
      "\u001b[1;31mKeyError\u001b[0m                                  Traceback (most recent call last)",
      "Input \u001b[1;32mIn [137]\u001b[0m, in \u001b[0;36m<cell line: 16>\u001b[1;34m()\u001b[0m\n\u001b[0;32m     14\u001b[0m Memory \u001b[38;5;241m=\u001b[39m [\u001b[38;5;124m'\u001b[39m\u001b[38;5;124mtargMem\u001b[39m\u001b[38;5;124m'\u001b[39m, \u001b[38;5;124m'\u001b[39m\u001b[38;5;124mdistracter_mem\u001b[39m\u001b[38;5;124m'\u001b[39m, \u001b[38;5;124m'\u001b[39m\u001b[38;5;124mnovel_mem\u001b[39m\u001b[38;5;124m'\u001b[39m]\n\u001b[0;32m     15\u001b[0m ax\u001b[38;5;241m.\u001b[39mbar(section,ColumnMeans[Memory])\n\u001b[1;32m---> 16\u001b[0m error \u001b[38;5;241m=\u001b[39m [\u001b[43mColumnSD\u001b[49m\u001b[43m[\u001b[49m\u001b[38;5;124;43m'\u001b[39;49m\u001b[38;5;124;43mtargMem\u001b[39;49m\u001b[38;5;124;43m'\u001b[39;49m\u001b[43m,\u001b[49m\u001b[43m \u001b[49m\u001b[38;5;124;43m'\u001b[39;49m\u001b[38;5;124;43mdistracter_mem\u001b[39;49m\u001b[38;5;124;43m'\u001b[39;49m\u001b[43m,\u001b[49m\u001b[43m \u001b[49m\u001b[38;5;124;43m'\u001b[39;49m\u001b[38;5;124;43mnovel_mem\u001b[39;49m\u001b[38;5;124;43m'\u001b[39;49m\u001b[43m]\u001b[49m]\n\u001b[0;32m     17\u001b[0m plt\u001b[38;5;241m.\u001b[39mshow()\n",
      "File \u001b[1;32m~\\anaconda3\\lib\\site-packages\\pandas\\core\\series.py:984\u001b[0m, in \u001b[0;36mSeries.__getitem__\u001b[1;34m(self, key)\u001b[0m\n\u001b[0;32m    981\u001b[0m     key \u001b[38;5;241m=\u001b[39m np\u001b[38;5;241m.\u001b[39masarray(key, dtype\u001b[38;5;241m=\u001b[39m\u001b[38;5;28mbool\u001b[39m)\n\u001b[0;32m    982\u001b[0m     \u001b[38;5;28;01mreturn\u001b[39;00m \u001b[38;5;28mself\u001b[39m\u001b[38;5;241m.\u001b[39m_get_values(key)\n\u001b[1;32m--> 984\u001b[0m \u001b[38;5;28;01mreturn\u001b[39;00m \u001b[38;5;28;43mself\u001b[39;49m\u001b[38;5;241;43m.\u001b[39;49m\u001b[43m_get_with\u001b[49m\u001b[43m(\u001b[49m\u001b[43mkey\u001b[49m\u001b[43m)\u001b[49m\n",
      "File \u001b[1;32m~\\anaconda3\\lib\\site-packages\\pandas\\core\\series.py:999\u001b[0m, in \u001b[0;36mSeries._get_with\u001b[1;34m(self, key)\u001b[0m\n\u001b[0;32m    994\u001b[0m     \u001b[38;5;28;01mraise\u001b[39;00m \u001b[38;5;167;01mTypeError\u001b[39;00m(\n\u001b[0;32m    995\u001b[0m         \u001b[38;5;124m\"\u001b[39m\u001b[38;5;124mIndexing a Series with DataFrame is not \u001b[39m\u001b[38;5;124m\"\u001b[39m\n\u001b[0;32m    996\u001b[0m         \u001b[38;5;124m\"\u001b[39m\u001b[38;5;124msupported, use the appropriate DataFrame column\u001b[39m\u001b[38;5;124m\"\u001b[39m\n\u001b[0;32m    997\u001b[0m     )\n\u001b[0;32m    998\u001b[0m \u001b[38;5;28;01melif\u001b[39;00m \u001b[38;5;28misinstance\u001b[39m(key, \u001b[38;5;28mtuple\u001b[39m):\n\u001b[1;32m--> 999\u001b[0m     \u001b[38;5;28;01mreturn\u001b[39;00m \u001b[38;5;28;43mself\u001b[39;49m\u001b[38;5;241;43m.\u001b[39;49m\u001b[43m_get_values_tuple\u001b[49m\u001b[43m(\u001b[49m\u001b[43mkey\u001b[49m\u001b[43m)\u001b[49m\n\u001b[0;32m   1001\u001b[0m \u001b[38;5;28;01melif\u001b[39;00m \u001b[38;5;129;01mnot\u001b[39;00m is_list_like(key):\n\u001b[0;32m   1002\u001b[0m     \u001b[38;5;66;03m# e.g. scalars that aren't recognized by lib.is_scalar, GH#32684\u001b[39;00m\n\u001b[0;32m   1003\u001b[0m     \u001b[38;5;28;01mreturn\u001b[39;00m \u001b[38;5;28mself\u001b[39m\u001b[38;5;241m.\u001b[39mloc[key]\n",
      "File \u001b[1;32m~\\anaconda3\\lib\\site-packages\\pandas\\core\\series.py:1034\u001b[0m, in \u001b[0;36mSeries._get_values_tuple\u001b[1;34m(self, key)\u001b[0m\n\u001b[0;32m   1031\u001b[0m     \u001b[38;5;28;01mreturn\u001b[39;00m result\n\u001b[0;32m   1033\u001b[0m \u001b[38;5;28;01mif\u001b[39;00m \u001b[38;5;129;01mnot\u001b[39;00m \u001b[38;5;28misinstance\u001b[39m(\u001b[38;5;28mself\u001b[39m\u001b[38;5;241m.\u001b[39mindex, MultiIndex):\n\u001b[1;32m-> 1034\u001b[0m     \u001b[38;5;28;01mraise\u001b[39;00m \u001b[38;5;167;01mKeyError\u001b[39;00m(\u001b[38;5;124m\"\u001b[39m\u001b[38;5;124mkey of type tuple not found and not a MultiIndex\u001b[39m\u001b[38;5;124m\"\u001b[39m)\n\u001b[0;32m   1036\u001b[0m \u001b[38;5;66;03m# If key is contained, would have returned by now\u001b[39;00m\n\u001b[0;32m   1037\u001b[0m indexer, new_index \u001b[38;5;241m=\u001b[39m \u001b[38;5;28mself\u001b[39m\u001b[38;5;241m.\u001b[39mindex\u001b[38;5;241m.\u001b[39mget_loc_level(key)\n",
      "\u001b[1;31mKeyError\u001b[0m: 'key of type tuple not found and not a MultiIndex'"
     ]
    },
    {
     "data": {
      "image/png": "[encoded data removed]",
      "text/plain": [
       "<Figure size 432x288 with 1 Axes>"
      ]
     },
     "metadata": {
      "needs_background": "light"
     },
     "output_type": "display_data"
    }
   ],
   "source": [
    "#calculate means\n",
    "ColumnMeans = df.apply(np.mean)\n",
    "#calculate the standard deviation\n",
    "ColumnSD = df.apply(np.std)\n",
    "\n",
    "import numpy as np\n",
    "import matplotlib.pyplot as plt\n",
    "%matplotlib inline\n",
    "fig = plt.figure()\n",
    "ax = fig.add_axes([0,0,1,1])\n",
    "\n",
    "#data\n",
    "section = ['Target', 'Distractor', 'Novel']\n",
    "Memory = ['targMem', 'distracter_mem', 'novel_mem']\n",
    "ax.bar(section,ColumnMeans[Memory])\n",
    "error = [ColumnSD['targMem', 'distracter_mem', 'novel_mem']]\n",
    "plt.show()"
   ]
  },
  {
   "cell_type": "code",
   "execution_count": 138,
   "metadata": {},
   "outputs": [],
   "source": [
    "ColumnSD = df.apply(np.std)"
   ]
  },
  {
   "cell_type": "code",
   "execution_count": 134,
   "metadata": {},
   "outputs": [
    {
     "data": {
      "text/plain": [
       "Lag1_T1A_T2A_T1       0.222178\n",
       "Lag1_T1A_T2A_T2       0.245627\n",
       "Lag1_T1A_T2A_T2_T1    0.181742\n",
       "Lag1_T1A_T2P_T1       0.213029\n",
       "Lag1_T1A_T2P_T2       0.170442\n",
       "Lag1_T1A_T2P_T2_T1    0.204107\n",
       "Lag1_T1P_T2A_T1       0.163134\n",
       "Lag1_T1P_T2A_T2       0.241466\n",
       "Lag1_T1P_T2A_T2_T1    0.253307\n",
       "Lag1_T1P_T2P_T1       0.188532\n",
       "Lag1_T1P_T2P_T2       0.185347\n",
       "Lag1_T1P_T2P_T2_T1    0.204560\n",
       "Lag5_T1A_T2A_T1       0.233959\n",
       "Lag5_T1A_T2A_T2       0.303625\n",
       "Lag5_T1A_T2A_T2_T1    0.251385\n",
       "Lag5_T1A_T2P_T1       0.212876\n",
       "Lag5_T1A_T2P_T2       0.138551\n",
       "Lag5_T1A_T2P_T2_T1    0.190432\n",
       "Lag5_T1P_T2A_T1       0.157334\n",
       "Lag5_T1P_T2A_T2       0.233477\n",
       "Lag5_T1P_T2A_T2_T1    0.245892\n",
       "Lag5_T1P_T2P_T1       0.182805\n",
       "Lag5_T1P_T2P_T2       0.178434\n",
       "Lag5_T1P_T2P_T2_T1    0.149431\n",
       "PP1T2_mem             0.239341\n",
       "PP1blink_mem          0.213686\n",
       "PP1cor_mem            0.181370\n",
       "PP1miss_mem           0.247937\n",
       "PP5cor_mem            0.186022\n",
       "T1Overall             0.184777\n",
       "T2Overall             0.119630\n",
       "distMem               0.050865\n",
       "distracter_mem        0.184987\n",
       "novel_mem             0.072264\n",
       "targMem               0.041919\n",
       "blinkMag              0.157261\n",
       "dtype: float64"
      ]
     },
     "execution_count": 134,
     "metadata": {},
     "output_type": "execute_result"
    }
   ],
   "source": [
    "ColumnSD"
   ]
  },
  {
   "cell_type": "code",
   "execution_count": 141,
   "metadata": {},
   "outputs": [
    {
     "ename": "TypeError",
     "evalue": "unsupported operand type(s) for *: 'float' and 'function'",
     "output_type": "error",
     "traceback": [
      "\u001b[1;31m---------------------------------------------------------------------------\u001b[0m",
      "\u001b[1;31mTypeError\u001b[0m                                 Traceback (most recent call last)",
      "Input \u001b[1;32mIn [141]\u001b[0m, in \u001b[0;36m<cell line: 16>\u001b[1;34m()\u001b[0m\n\u001b[0;32m     14\u001b[0m Memory \u001b[38;5;241m=\u001b[39m [\u001b[38;5;124m'\u001b[39m\u001b[38;5;124mtargMem\u001b[39m\u001b[38;5;124m'\u001b[39m, \u001b[38;5;124m'\u001b[39m\u001b[38;5;124mdistracter_mem\u001b[39m\u001b[38;5;124m'\u001b[39m, \u001b[38;5;124m'\u001b[39m\u001b[38;5;124mnovel_mem\u001b[39m\u001b[38;5;124m'\u001b[39m]\n\u001b[0;32m     15\u001b[0m ax\u001b[38;5;241m.\u001b[39mbar(section,ColumnMeans[Memory])\n\u001b[1;32m---> 16\u001b[0m ci \u001b[38;5;241m=\u001b[39m \u001b[38;5;241;43m0.1\u001b[39;49m\u001b[43m \u001b[49m\u001b[38;5;241;43m*\u001b[39;49m\u001b[43m \u001b[49m\u001b[43mnp\u001b[49m\u001b[38;5;241;43m.\u001b[39;49m\u001b[43mstd\u001b[49m \u001b[38;5;241m/\u001b[39m np\u001b[38;5;241m.\u001b[39mmean\n\u001b[0;32m     17\u001b[0m plt\u001b[38;5;241m.\u001b[39mshow()\n",
      "\u001b[1;31mTypeError\u001b[0m: unsupported operand type(s) for *: 'float' and 'function'"
     ]
    },
    {
     "data": {
      "image/png": "[encoded data removed]",
      "text/plain": [
       "<Figure size 432x288 with 1 Axes>"
      ]
     },
     "metadata": {
      "needs_background": "light"
     },
     "output_type": "display_data"
    }
   ],
   "source": [
    "#calculate means\n",
    "ColumnMeans = df.apply(np.mean)\n",
    "#calculate the standard deviation\n",
    "ColumnSD = df.apply(np.std)\n",
    "\n",
    "import numpy as np\n",
    "import matplotlib.pyplot as plt\n",
    "%matplotlib inline\n",
    "fig = plt.figure()\n",
    "ax = fig.add_axes([0,0,1,1])\n",
    "\n",
    "#data\n",
    "section = ['Target', 'Distractor', 'Novel']\n",
    "Memory = ['targMem', 'distracter_mem', 'novel_mem']\n",
    "ax.bar(section,ColumnMeans[Memory])\n",
    "ci = 0.1 * np.std / np.mean\n",
    "plt.show()"
   ]
  },
  {
   "cell_type": "code",
   "execution_count": null,
   "metadata": {},
   "outputs": [],
   "source": []
  }
 ],
 "metadata": {
  "kernelspec": {
   "display_name": "Python 3 (ipykernel)",
   "language": "python",
   "name": "python3"
  },
  "language_info": {
   "codemirror_mode": {
    "name": "ipython",
    "version": 3
   },
   "file_extension": ".py",
   "mimetype": "text/x-python",
   "name": "python",
   "nbconvert_exporter": "python",
   "pygments_lexer": "ipython3",
   "version": "3.9.12"
  }
 },
 "nbformat": 4,
 "nbformat_minor": 2
}
